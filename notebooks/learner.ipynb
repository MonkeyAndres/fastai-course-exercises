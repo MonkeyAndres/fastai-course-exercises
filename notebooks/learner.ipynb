{
 "cells": [
  {
   "cell_type": "markdown",
   "id": "ea3827a0-d1d6-401f-ac42-bb93639fabf3",
   "metadata": {
    "tags": []
   },
   "source": [
    "# Learner from scratch"
   ]
  },
  {
   "cell_type": "markdown",
   "id": "6d8fb420-b4ef-4d5d-a290-d758ec1bf673",
   "metadata": {},
   "source": [
    "Implementation of `Learner` fastai class completely from scratch and explained step by step."
   ]
  },
  {
   "cell_type": "code",
   "execution_count": null,
   "id": "604ab3b4-c18f-4cc1-8f8b-b39b34101b71",
   "metadata": {},
   "outputs": [],
   "source": []
  }
 ],
 "metadata": {
  "kernelspec": {
   "display_name": "Python 3 (ipykernel)",
   "language": "python",
   "name": "python3"
  },
  "language_info": {
   "codemirror_mode": {
    "name": "ipython",
    "version": 3
   },
   "file_extension": ".py",
   "mimetype": "text/x-python",
   "name": "python",
   "nbconvert_exporter": "python",
   "pygments_lexer": "ipython3",
   "version": "3.11.5"
  }
 },
 "nbformat": 4,
 "nbformat_minor": 5
}
